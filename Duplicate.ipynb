{
 "cells": [
  {
   "cell_type": "code",
   "execution_count": 1,
   "metadata": {},
   "outputs": [
    {
     "name": "stdout",
     "output_type": "stream",
     "text": [
      "Requirement already satisfied: opencv-python in c:\\users\\user\\appdata\\local\\programs\\python\\python311\\lib\\site-packages (4.8.1.78)Note: you may need to restart the kernel to use updated packages.\n",
      "\n",
      "Requirement already satisfied: numpy in c:\\users\\user\\appdata\\local\\programs\\python\\python311\\lib\\site-packages (1.26.1)\n"
     ]
    },
    {
     "name": "stderr",
     "output_type": "stream",
     "text": [
      "\n",
      "[notice] A new release of pip is available: 24.2 -> 24.3.1\n",
      "[notice] To update, run: python.exe -m pip install --upgrade pip\n"
     ]
    }
   ],
   "source": [
    "pip install opencv-python numpy"
   ]
  },
  {
   "cell_type": "code",
   "execution_count": 5,
   "metadata": {},
   "outputs": [
    {
     "name": "stdout",
     "output_type": "stream",
     "text": [
      "Deleted duplicate image: D:\\Research\\Ongoing Work\\Gastroesophageal Reflux Dataset Research\\GastroHealth\\Polyp Normal\\cropped_normal polyp image  (43).jpg\n",
      "Deleted duplicate image: D:\\Research\\Ongoing Work\\Gastroesophageal Reflux Dataset Research\\GastroHealth\\Polyp Normal\\cropped_normal polyp image  (42).jpg\n",
      "Deleted duplicate image: D:\\Research\\Ongoing Work\\Gastroesophageal Reflux Dataset Research\\GastroHealth\\Polyp Normal\\cropped_normal polyp image  (429).jpg\n",
      "Deleted duplicate image: D:\\Research\\Ongoing Work\\Gastroesophageal Reflux Dataset Research\\GastroHealth\\Polyp Normal\\cropped_normal polyp image  (356).jpg\n",
      "Deleted duplicate image: D:\\Research\\Ongoing Work\\Gastroesophageal Reflux Dataset Research\\GastroHealth\\Polyp Normal\\cropped_normal polyp image  (927).jpg\n",
      "Deleted duplicate image: D:\\Research\\Ongoing Work\\Gastroesophageal Reflux Dataset Research\\GastroHealth\\Polyp Normal\\normal polyp image  (42).jpg\n",
      "Deleted duplicate image: D:\\Research\\Ongoing Work\\Gastroesophageal Reflux Dataset Research\\GastroHealth\\Polyp Normal\\normal polyp image  (429).jpg\n",
      "Deleted duplicate image: D:\\Research\\Ongoing Work\\Gastroesophageal Reflux Dataset Research\\GastroHealth\\Polyp Normal\\normal polyp image  (356).jpg\n",
      "Deleted duplicate image: D:\\Research\\Ongoing Work\\Gastroesophageal Reflux Dataset Research\\GastroHealth\\Polyp Normal\\normal polyp image  (927).jpg\n",
      "Deleted duplicate image: D:\\Research\\Ongoing Work\\Gastroesophageal Reflux Dataset Research\\GastroHealth\\Polyp Normal\\normal polyp image  (913).jpg\n",
      "Duplicate images deletion complete.\n"
     ]
    }
   ],
   "source": [
    "import os\n",
    "import cv2\n",
    "import numpy as np\n",
    "from collections import defaultdict\n",
    "\n",
    "image_directory = 'D:\\Research\\Ongoing Work\\Gastroesophageal Reflux Dataset Research\\GastroHealth\\Polyp Normal'\n",
    "\n",
    "def dhash(image, hash_size=8):\n",
    "    resized = cv2.resize(image, (hash_size + 1, hash_size))\n",
    "    diff = resized[:, 1:] > resized[:, :-1]\n",
    "    return sum([2 ** i for (i, v) in enumerate(diff.flatten()) if v])\n",
    "\n",
    "hash_dict = defaultdict(list)\n",
    "\n",
    "for image_name in os.listdir(image_directory):\n",
    "    if image_name.endswith(('png', 'jpg', 'jpeg')):\n",
    "        image_path = os.path.join(image_directory, image_name)\n",
    "        image = cv2.imread(image_path, cv2.IMREAD_GRAYSCALE)\n",
    "\n",
    "        if image is not None:\n",
    "            hash_value = dhash(image)\n",
    "            hash_dict[hash_value].append(image_path)\n",
    "\n",
    "for hash_value, image_paths in hash_dict.items():\n",
    "    if len(image_paths) > 1:\n",
    "        for image_path in image_paths[1:]:\n",
    "            os.remove(image_path)\n",
    "            print(f\"Deleted duplicate image: {image_path}\")\n",
    "\n",
    "print(\"Duplicate images deletion complete.\")"
   ]
  },
  {
   "cell_type": "code",
   "execution_count": null,
   "metadata": {},
   "outputs": [],
   "source": []
  }
 ],
 "metadata": {
  "kernelspec": {
   "display_name": "Python 3",
   "language": "python",
   "name": "python3"
  },
  "language_info": {
   "codemirror_mode": {
    "name": "ipython",
    "version": 3
   },
   "file_extension": ".py",
   "mimetype": "text/x-python",
   "name": "python",
   "nbconvert_exporter": "python",
   "pygments_lexer": "ipython3",
   "version": "3.11.4"
  }
 },
 "nbformat": 4,
 "nbformat_minor": 2
}
